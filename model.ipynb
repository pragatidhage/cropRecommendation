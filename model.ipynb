{
 "cells": [
  {
   "cell_type": "code",
   "execution_count": 181,
   "id": "a6e42383-480e-472f-acda-d831f4c47bbf",
   "metadata": {
    "tags": []
   },
   "outputs": [],
   "source": [
    "import numpy as np\n",
    "import pandas as pd"
   ]
  },
  {
   "cell_type": "code",
   "execution_count": 182,
   "id": "484515ba-fdd9-45fb-b70a-7f0996bcde1a",
   "metadata": {
    "tags": []
   },
   "outputs": [
    {
     "data": {
      "text/html": [
       "<div>\n",
       "<style scoped>\n",
       "    .dataframe tbody tr th:only-of-type {\n",
       "        vertical-align: middle;\n",
       "    }\n",
       "\n",
       "    .dataframe tbody tr th {\n",
       "        vertical-align: top;\n",
       "    }\n",
       "\n",
       "    .dataframe thead th {\n",
       "        text-align: right;\n",
       "    }\n",
       "</style>\n",
       "<table border=\"1\" class=\"dataframe\">\n",
       "  <thead>\n",
       "    <tr style=\"text-align: right;\">\n",
       "      <th></th>\n",
       "      <th>District_Name</th>\n",
       "      <th>Soil_color</th>\n",
       "      <th>Nitrogen</th>\n",
       "      <th>Phosphorus</th>\n",
       "      <th>Potassium</th>\n",
       "      <th>pH</th>\n",
       "      <th>Rainfall</th>\n",
       "      <th>Temperature</th>\n",
       "      <th>Crop</th>\n",
       "      <th>Fertilizer</th>\n",
       "      <th>Link</th>\n",
       "    </tr>\n",
       "  </thead>\n",
       "  <tbody>\n",
       "    <tr>\n",
       "      <th>0</th>\n",
       "      <td>Kolhapur</td>\n",
       "      <td>Black</td>\n",
       "      <td>75</td>\n",
       "      <td>50</td>\n",
       "      <td>100</td>\n",
       "      <td>6.5</td>\n",
       "      <td>1000</td>\n",
       "      <td>20</td>\n",
       "      <td>Sugarcane</td>\n",
       "      <td>Urea</td>\n",
       "      <td>https://youtu.be/2t5Am0xLTOo</td>\n",
       "    </tr>\n",
       "    <tr>\n",
       "      <th>1</th>\n",
       "      <td>Kolhapur</td>\n",
       "      <td>Black</td>\n",
       "      <td>80</td>\n",
       "      <td>50</td>\n",
       "      <td>100</td>\n",
       "      <td>6.5</td>\n",
       "      <td>1000</td>\n",
       "      <td>20</td>\n",
       "      <td>Sugarcane</td>\n",
       "      <td>Urea</td>\n",
       "      <td>https://youtu.be/2t5Am0xLTOo</td>\n",
       "    </tr>\n",
       "    <tr>\n",
       "      <th>2</th>\n",
       "      <td>Kolhapur</td>\n",
       "      <td>Black</td>\n",
       "      <td>85</td>\n",
       "      <td>50</td>\n",
       "      <td>100</td>\n",
       "      <td>6.5</td>\n",
       "      <td>1000</td>\n",
       "      <td>20</td>\n",
       "      <td>Sugarcane</td>\n",
       "      <td>Urea</td>\n",
       "      <td>https://youtu.be/2t5Am0xLTOo</td>\n",
       "    </tr>\n",
       "    <tr>\n",
       "      <th>3</th>\n",
       "      <td>Kolhapur</td>\n",
       "      <td>Black</td>\n",
       "      <td>90</td>\n",
       "      <td>50</td>\n",
       "      <td>100</td>\n",
       "      <td>6.5</td>\n",
       "      <td>1000</td>\n",
       "      <td>20</td>\n",
       "      <td>Sugarcane</td>\n",
       "      <td>Urea</td>\n",
       "      <td>https://youtu.be/2t5Am0xLTOo</td>\n",
       "    </tr>\n",
       "    <tr>\n",
       "      <th>4</th>\n",
       "      <td>Kolhapur</td>\n",
       "      <td>Black</td>\n",
       "      <td>95</td>\n",
       "      <td>50</td>\n",
       "      <td>100</td>\n",
       "      <td>6.5</td>\n",
       "      <td>1000</td>\n",
       "      <td>20</td>\n",
       "      <td>Sugarcane</td>\n",
       "      <td>Urea</td>\n",
       "      <td>https://youtu.be/2t5Am0xLTOo</td>\n",
       "    </tr>\n",
       "  </tbody>\n",
       "</table>\n",
       "</div>"
      ],
      "text/plain": [
       "  District_Name Soil_color  Nitrogen  Phosphorus  Potassium   pH  Rainfall  \\\n",
       "0      Kolhapur      Black        75          50        100  6.5      1000   \n",
       "1      Kolhapur      Black        80          50        100  6.5      1000   \n",
       "2      Kolhapur      Black        85          50        100  6.5      1000   \n",
       "3      Kolhapur      Black        90          50        100  6.5      1000   \n",
       "4      Kolhapur      Black        95          50        100  6.5      1000   \n",
       "\n",
       "   Temperature       Crop Fertilizer                          Link  \n",
       "0           20  Sugarcane       Urea  https://youtu.be/2t5Am0xLTOo  \n",
       "1           20  Sugarcane       Urea  https://youtu.be/2t5Am0xLTOo  \n",
       "2           20  Sugarcane       Urea  https://youtu.be/2t5Am0xLTOo  \n",
       "3           20  Sugarcane       Urea  https://youtu.be/2t5Am0xLTOo  \n",
       "4           20  Sugarcane       Urea  https://youtu.be/2t5Am0xLTOo  "
      ]
     },
     "execution_count": 182,
     "metadata": {},
     "output_type": "execute_result"
    }
   ],
   "source": [
    "crop=pd.read_csv(\"Crop and fertilizer dataset.csv\")\n",
    "crop.head()"
   ]
  },
  {
   "cell_type": "code",
   "execution_count": 183,
   "id": "07d9d921-94d7-49e6-b49c-d452d95a32bd",
   "metadata": {
    "tags": []
   },
   "outputs": [
    {
     "data": {
      "text/plain": [
       "(4513, 11)"
      ]
     },
     "execution_count": 183,
     "metadata": {},
     "output_type": "execute_result"
    }
   ],
   "source": [
    "crop.shape"
   ]
  },
  {
   "cell_type": "code",
   "execution_count": 184,
   "id": "f22f2ca3-1c78-4635-ad9c-19233609b0e8",
   "metadata": {
    "tags": []
   },
   "outputs": [
    {
     "name": "stdout",
     "output_type": "stream",
     "text": [
      "<class 'pandas.core.frame.DataFrame'>\n",
      "RangeIndex: 4513 entries, 0 to 4512\n",
      "Data columns (total 11 columns):\n",
      " #   Column         Non-Null Count  Dtype  \n",
      "---  ------         --------------  -----  \n",
      " 0   District_Name  4513 non-null   object \n",
      " 1   Soil_color     4513 non-null   object \n",
      " 2   Nitrogen       4513 non-null   int64  \n",
      " 3   Phosphorus     4513 non-null   int64  \n",
      " 4   Potassium      4513 non-null   int64  \n",
      " 5   pH             4513 non-null   float64\n",
      " 6   Rainfall       4513 non-null   int64  \n",
      " 7   Temperature    4513 non-null   int64  \n",
      " 8   Crop           4513 non-null   object \n",
      " 9   Fertilizer     4513 non-null   object \n",
      " 10  Link           4513 non-null   object \n",
      "dtypes: float64(1), int64(5), object(5)\n",
      "memory usage: 388.0+ KB\n"
     ]
    }
   ],
   "source": [
    "crop.info()"
   ]
  },
  {
   "cell_type": "code",
   "execution_count": 185,
   "id": "07389a99-07f7-4402-941c-b076a874a038",
   "metadata": {
    "tags": []
   },
   "outputs": [
    {
     "data": {
      "text/plain": [
       "District_Name    0\n",
       "Soil_color       0\n",
       "Nitrogen         0\n",
       "Phosphorus       0\n",
       "Potassium        0\n",
       "pH               0\n",
       "Rainfall         0\n",
       "Temperature      0\n",
       "Crop             0\n",
       "Fertilizer       0\n",
       "Link             0\n",
       "dtype: int64"
      ]
     },
     "execution_count": 185,
     "metadata": {},
     "output_type": "execute_result"
    }
   ],
   "source": [
    "crop.isnull().sum()"
   ]
  },
  {
   "cell_type": "code",
   "execution_count": 186,
   "id": "ead5f9ad-ef0c-4046-a0e3-6b22476e0b61",
   "metadata": {
    "tags": []
   },
   "outputs": [
    {
     "data": {
      "text/plain": [
       "0"
      ]
     },
     "execution_count": 186,
     "metadata": {},
     "output_type": "execute_result"
    }
   ],
   "source": [
    "crop.duplicated().sum()"
   ]
  },
  {
   "cell_type": "code",
   "execution_count": 187,
   "id": "11f32b01-b4a4-4617-b4fe-8231ad1e3c02",
   "metadata": {
    "tags": []
   },
   "outputs": [
    {
     "data": {
      "text/html": [
       "<div>\n",
       "<style scoped>\n",
       "    .dataframe tbody tr th:only-of-type {\n",
       "        vertical-align: middle;\n",
       "    }\n",
       "\n",
       "    .dataframe tbody tr th {\n",
       "        vertical-align: top;\n",
       "    }\n",
       "\n",
       "    .dataframe thead th {\n",
       "        text-align: right;\n",
       "    }\n",
       "</style>\n",
       "<table border=\"1\" class=\"dataframe\">\n",
       "  <thead>\n",
       "    <tr style=\"text-align: right;\">\n",
       "      <th></th>\n",
       "      <th>Nitrogen</th>\n",
       "      <th>Phosphorus</th>\n",
       "      <th>Potassium</th>\n",
       "      <th>pH</th>\n",
       "      <th>Rainfall</th>\n",
       "      <th>Temperature</th>\n",
       "    </tr>\n",
       "  </thead>\n",
       "  <tbody>\n",
       "    <tr>\n",
       "      <th>count</th>\n",
       "      <td>4513.000000</td>\n",
       "      <td>4513.000000</td>\n",
       "      <td>4513.000000</td>\n",
       "      <td>4513.000000</td>\n",
       "      <td>4513.000000</td>\n",
       "      <td>4513.000000</td>\n",
       "    </tr>\n",
       "    <tr>\n",
       "      <th>mean</th>\n",
       "      <td>95.409927</td>\n",
       "      <td>54.341901</td>\n",
       "      <td>63.595170</td>\n",
       "      <td>6.715267</td>\n",
       "      <td>819.189010</td>\n",
       "      <td>25.915134</td>\n",
       "    </tr>\n",
       "    <tr>\n",
       "      <th>std</th>\n",
       "      <td>38.060648</td>\n",
       "      <td>16.551991</td>\n",
       "      <td>35.691911</td>\n",
       "      <td>0.625198</td>\n",
       "      <td>251.730813</td>\n",
       "      <td>5.897328</td>\n",
       "    </tr>\n",
       "    <tr>\n",
       "      <th>min</th>\n",
       "      <td>20.000000</td>\n",
       "      <td>10.000000</td>\n",
       "      <td>5.000000</td>\n",
       "      <td>5.500000</td>\n",
       "      <td>300.000000</td>\n",
       "      <td>10.000000</td>\n",
       "    </tr>\n",
       "    <tr>\n",
       "      <th>25%</th>\n",
       "      <td>60.000000</td>\n",
       "      <td>40.000000</td>\n",
       "      <td>40.000000</td>\n",
       "      <td>6.000000</td>\n",
       "      <td>600.000000</td>\n",
       "      <td>20.000000</td>\n",
       "    </tr>\n",
       "    <tr>\n",
       "      <th>50%</th>\n",
       "      <td>105.000000</td>\n",
       "      <td>55.000000</td>\n",
       "      <td>55.000000</td>\n",
       "      <td>6.500000</td>\n",
       "      <td>800.000000</td>\n",
       "      <td>25.000000</td>\n",
       "    </tr>\n",
       "    <tr>\n",
       "      <th>75%</th>\n",
       "      <td>125.000000</td>\n",
       "      <td>65.000000</td>\n",
       "      <td>75.000000</td>\n",
       "      <td>7.000000</td>\n",
       "      <td>1000.000000</td>\n",
       "      <td>30.000000</td>\n",
       "    </tr>\n",
       "    <tr>\n",
       "      <th>max</th>\n",
       "      <td>150.000000</td>\n",
       "      <td>90.000000</td>\n",
       "      <td>150.000000</td>\n",
       "      <td>8.500000</td>\n",
       "      <td>1700.000000</td>\n",
       "      <td>40.000000</td>\n",
       "    </tr>\n",
       "  </tbody>\n",
       "</table>\n",
       "</div>"
      ],
      "text/plain": [
       "          Nitrogen   Phosphorus    Potassium           pH     Rainfall  \\\n",
       "count  4513.000000  4513.000000  4513.000000  4513.000000  4513.000000   \n",
       "mean     95.409927    54.341901    63.595170     6.715267   819.189010   \n",
       "std      38.060648    16.551991    35.691911     0.625198   251.730813   \n",
       "min      20.000000    10.000000     5.000000     5.500000   300.000000   \n",
       "25%      60.000000    40.000000    40.000000     6.000000   600.000000   \n",
       "50%     105.000000    55.000000    55.000000     6.500000   800.000000   \n",
       "75%     125.000000    65.000000    75.000000     7.000000  1000.000000   \n",
       "max     150.000000    90.000000   150.000000     8.500000  1700.000000   \n",
       "\n",
       "       Temperature  \n",
       "count  4513.000000  \n",
       "mean     25.915134  \n",
       "std       5.897328  \n",
       "min      10.000000  \n",
       "25%      20.000000  \n",
       "50%      25.000000  \n",
       "75%      30.000000  \n",
       "max      40.000000  "
      ]
     },
     "execution_count": 187,
     "metadata": {},
     "output_type": "execute_result"
    }
   ],
   "source": [
    "crop.describe()"
   ]
  },
  {
   "cell_type": "code",
   "execution_count": 188,
   "id": "5d1d60b3-7acd-4011-8ec4-e54e6e6efd40",
   "metadata": {
    "tags": []
   },
   "outputs": [
    {
     "name": "stderr",
     "output_type": "stream",
     "text": [
      "C:\\Users\\Pragati\\AppData\\Local\\Temp\\ipykernel_3492\\2851390805.py:1: FutureWarning: The default value of numeric_only in DataFrame.corr is deprecated. In a future version, it will default to False. Select only valid columns or specify the value of numeric_only to silence this warning.\n",
      "  corr= crop.corr()\n"
     ]
    },
    {
     "data": {
      "text/html": [
       "<div>\n",
       "<style scoped>\n",
       "    .dataframe tbody tr th:only-of-type {\n",
       "        vertical-align: middle;\n",
       "    }\n",
       "\n",
       "    .dataframe tbody tr th {\n",
       "        vertical-align: top;\n",
       "    }\n",
       "\n",
       "    .dataframe thead th {\n",
       "        text-align: right;\n",
       "    }\n",
       "</style>\n",
       "<table border=\"1\" class=\"dataframe\">\n",
       "  <thead>\n",
       "    <tr style=\"text-align: right;\">\n",
       "      <th></th>\n",
       "      <th>Nitrogen</th>\n",
       "      <th>Phosphorus</th>\n",
       "      <th>Potassium</th>\n",
       "      <th>pH</th>\n",
       "      <th>Rainfall</th>\n",
       "      <th>Temperature</th>\n",
       "    </tr>\n",
       "  </thead>\n",
       "  <tbody>\n",
       "    <tr>\n",
       "      <th>Nitrogen</th>\n",
       "      <td>1.000000</td>\n",
       "      <td>0.709539</td>\n",
       "      <td>0.584315</td>\n",
       "      <td>0.182850</td>\n",
       "      <td>0.269364</td>\n",
       "      <td>-0.010213</td>\n",
       "    </tr>\n",
       "    <tr>\n",
       "      <th>Phosphorus</th>\n",
       "      <td>0.709539</td>\n",
       "      <td>1.000000</td>\n",
       "      <td>0.573970</td>\n",
       "      <td>0.244945</td>\n",
       "      <td>0.225453</td>\n",
       "      <td>-0.055303</td>\n",
       "    </tr>\n",
       "    <tr>\n",
       "      <th>Potassium</th>\n",
       "      <td>0.584315</td>\n",
       "      <td>0.573970</td>\n",
       "      <td>1.000000</td>\n",
       "      <td>0.075110</td>\n",
       "      <td>0.445671</td>\n",
       "      <td>0.053413</td>\n",
       "    </tr>\n",
       "    <tr>\n",
       "      <th>pH</th>\n",
       "      <td>0.182850</td>\n",
       "      <td>0.244945</td>\n",
       "      <td>0.075110</td>\n",
       "      <td>1.000000</td>\n",
       "      <td>0.097884</td>\n",
       "      <td>-0.002949</td>\n",
       "    </tr>\n",
       "    <tr>\n",
       "      <th>Rainfall</th>\n",
       "      <td>0.269364</td>\n",
       "      <td>0.225453</td>\n",
       "      <td>0.445671</td>\n",
       "      <td>0.097884</td>\n",
       "      <td>1.000000</td>\n",
       "      <td>0.315045</td>\n",
       "    </tr>\n",
       "    <tr>\n",
       "      <th>Temperature</th>\n",
       "      <td>-0.010213</td>\n",
       "      <td>-0.055303</td>\n",
       "      <td>0.053413</td>\n",
       "      <td>-0.002949</td>\n",
       "      <td>0.315045</td>\n",
       "      <td>1.000000</td>\n",
       "    </tr>\n",
       "  </tbody>\n",
       "</table>\n",
       "</div>"
      ],
      "text/plain": [
       "             Nitrogen  Phosphorus  Potassium        pH  Rainfall  Temperature\n",
       "Nitrogen     1.000000    0.709539   0.584315  0.182850  0.269364    -0.010213\n",
       "Phosphorus   0.709539    1.000000   0.573970  0.244945  0.225453    -0.055303\n",
       "Potassium    0.584315    0.573970   1.000000  0.075110  0.445671     0.053413\n",
       "pH           0.182850    0.244945   0.075110  1.000000  0.097884    -0.002949\n",
       "Rainfall     0.269364    0.225453   0.445671  0.097884  1.000000     0.315045\n",
       "Temperature -0.010213   -0.055303   0.053413 -0.002949  0.315045     1.000000"
      ]
     },
     "execution_count": 188,
     "metadata": {},
     "output_type": "execute_result"
    }
   ],
   "source": [
    "corr= crop.corr()\n",
    "corr"
   ]
  },
  {
   "cell_type": "code",
   "execution_count": 189,
   "id": "58516915-6e69-4fc3-a851-e5b5f5ffb64a",
   "metadata": {
    "tags": []
   },
   "outputs": [
    {
     "data": {
      "text/plain": [
       "<Axes: >"
      ]
     },
     "execution_count": 189,
     "metadata": {},
     "output_type": "execute_result"
    },
    {
     "data": {
      "image/png": "[encoded data removed]",
      "text/plain": [
       "<Figure size 640x480 with 2 Axes>"
      ]
     },
     "metadata": {},
     "output_type": "display_data"
    }
   ],
   "source": [
    "import seaborn as sns\n",
    "sns.heatmap(corr,annot=True,cbar=True,cmap='coolwarm')"
   ]
  },
  {
   "cell_type": "code",
   "execution_count": 190,
   "id": "e3e214f4-d8f9-4db5-a3ff-fd38a252bba6",
   "metadata": {
    "tags": []
   },
   "outputs": [
    {
     "name": "stderr",
     "output_type": "stream",
     "text": [
      "C:\\Users\\Pragati\\AppData\\Local\\Temp\\ipykernel_3492\\3998505722.py:2: UserWarning: \n",
      "\n",
      "`distplot` is a deprecated function and will be removed in seaborn v0.14.0.\n",
      "\n",
      "Please adapt your code to use either `displot` (a figure-level function with\n",
      "similar flexibility) or `histplot` (an axes-level function for histograms).\n",
      "\n",
      "For a guide to updating your code to use the new functions, please see\n",
      "https://gist.github.com/mwaskom/de44147ed2974457ad6372750bbe5751\n",
      "\n",
      "  sns.distplot(crop['Nitrogen'])\n"
     ]
    },
    {
     "data": {
      "image/png": "[encoded data removed]",
      "text/plain": [
       "<Figure size 640x480 with 1 Axes>"
      ]
     },
     "metadata": {},
     "output_type": "display_data"
    },
    {
     "name": "stderr",
     "output_type": "stream",
     "text": [
      "C:\\Users\\Pragati\\AppData\\Local\\Temp\\ipykernel_3492\\3998505722.py:4: UserWarning: \n",
      "\n",
      "`distplot` is a deprecated function and will be removed in seaborn v0.14.0.\n",
      "\n",
      "Please adapt your code to use either `displot` (a figure-level function with\n",
      "similar flexibility) or `histplot` (an axes-level function for histograms).\n",
      "\n",
      "For a guide to updating your code to use the new functions, please see\n",
      "https://gist.github.com/mwaskom/de44147ed2974457ad6372750bbe5751\n",
      "\n",
      "  sns.distplot(crop['Potassium'])\n"
     ]
    },
    {
     "data": {
      "image/png": "[encoded data removed]",
      "text/plain": [
       "<Figure size 640x480 with 1 Axes>"
      ]
     },
     "metadata": {},
     "output_type": "display_data"
    }
   ],
   "source": [
    "import matplotlib.pyplot as plt\n",
    "sns.distplot(crop['Nitrogen'])\n",
    "plt.show()\n",
    "sns.distplot(crop['Potassium'])\n",
    "plt.show()"
   ]
  },
  {
   "cell_type": "code",
   "execution_count": 191,
   "id": "a8fa9558-56e9-4f1b-8a4d-33a28b7da081",
   "metadata": {
    "tags": []
   },
   "outputs": [
    {
     "data": {
      "text/plain": [
       "Urea                      1364\n",
       "DAP                        667\n",
       "MOP                        571\n",
       "19:19:19 NPK               480\n",
       "SSP                        417\n",
       "Magnesium Sulphate         215\n",
       "10:26:26 NPK               156\n",
       "50:26:26 NPK               124\n",
       "Chilated Micronutrient     108\n",
       "12:32:16 NPK               106\n",
       "Ferrous Sulphate            68\n",
       "13:32:26 NPK                66\n",
       "Ammonium Sulphate           50\n",
       "10:10:10 NPK                50\n",
       "Hydrated Lime               25\n",
       "White Potash                19\n",
       "20:20:20 NPK                15\n",
       "18:46:00 NPK                 6\n",
       "Sulphur                      6\n",
       "Name: Fertilizer, dtype: int64"
      ]
     },
     "execution_count": 191,
     "metadata": {},
     "output_type": "execute_result"
    }
   ],
   "source": [
    "crop['Fertilizer'].value_counts()"
   ]
  },
  {
   "cell_type": "code",
   "execution_count": 192,
   "id": "50704515-d2ba-4a48-a4ca-d36c5c90cdf0",
   "metadata": {
    "tags": []
   },
   "outputs": [
    {
     "data": {
      "text/plain": [
       "1     1364\n",
       "2      667\n",
       "3      571\n",
       "4      480\n",
       "5      417\n",
       "6      215\n",
       "7      156\n",
       "8      124\n",
       "9      108\n",
       "10     106\n",
       "11      68\n",
       "12      66\n",
       "13      50\n",
       "14      50\n",
       "15      25\n",
       "16      19\n",
       "17      15\n",
       "18       6\n",
       "19       6\n",
       "Name: Fertilizer_Num, dtype: int64"
      ]
     },
     "execution_count": 192,
     "metadata": {},
     "output_type": "execute_result"
    }
   ],
   "source": [
    "fert_name={\n",
    "    'Urea':1,\n",
    "    'DAP':2,\n",
    "    'MOP':3,\n",
    "    '19:19:19 NPK':4,\n",
    "    'SSP':5,\n",
    "    'Magnesium Sulphate':6,\n",
    "    '10:26:26 NPK':7,\n",
    "    '50:26:26 NPK':8,\n",
    "    'Chilated Micronutrient':9,\n",
    "    '12:32:16 NPK':10,\n",
    "    'Ferrous Sulphate':11,\n",
    "    '13:32:26 NPK':12,\n",
    "    'Ammonium Sulphate':13,\n",
    "    '10:10:10 NPK':14,\n",
    "    'Hydrated Lime':15,\n",
    "    'White Potash':16,\n",
    "    '20:20:20 NPK':17,\n",
    "    '18:46:00 NPK':18,\n",
    "    'Sulphur':19,\n",
    "    \n",
    "}\n",
    "crop['Fertilizer_Num']=crop['Fertilizer'].map(fert_name)\n",
    "crop['Fertilizer_Num'].value_counts()"
   ]
  },
  {
   "cell_type": "code",
   "execution_count": 193,
   "id": "75a49505-1b03-4e0e-b6e2-878de3c2258b",
   "metadata": {
    "tags": []
   },
   "outputs": [
    {
     "data": {
      "text/plain": [
       "Kolhapur    1430\n",
       "Satara      1000\n",
       "Sangli       897\n",
       "Solapur      707\n",
       "Pune         479\n",
       "Name: District_Name, dtype: int64"
      ]
     },
     "execution_count": 193,
     "metadata": {},
     "output_type": "execute_result"
    }
   ],
   "source": [
    "crop['District_Name'].value_counts()"
   ]
  },
  {
   "cell_type": "code",
   "execution_count": 194,
   "id": "b16d8b17-5bcc-4140-a84c-b6ae6f5128ba",
   "metadata": {
    "tags": []
   },
   "outputs": [],
   "source": [
    "dist_name={\n",
    "    'Kolhapur':1,\n",
    "    'Satara':2,\n",
    "    'Sangli':3,\n",
    "    'Solapur':4,\n",
    "    'Pune':5\n",
    "}\n",
    "crop['Dist_Name_Num']=crop['District_Name'].map(dist_name)"
   ]
  },
  {
   "cell_type": "code",
   "execution_count": 195,
   "id": "9cc4f560-4425-4550-b20d-90f446ac421c",
   "metadata": {
    "tags": []
   },
   "outputs": [
    {
     "data": {
      "text/plain": [
       "1    1430\n",
       "2    1000\n",
       "3     897\n",
       "4     707\n",
       "5     479\n",
       "Name: Dist_Name_Num, dtype: int64"
      ]
     },
     "execution_count": 195,
     "metadata": {},
     "output_type": "execute_result"
    }
   ],
   "source": [
    "crop['Dist_Name_Num'].value_counts()\n"
   ]
  },
  {
   "cell_type": "code",
   "execution_count": 196,
   "id": "de87513e-5641-45e9-8ada-905bef2663df",
   "metadata": {
    "tags": []
   },
   "outputs": [
    {
     "data": {
      "text/plain": [
       "Black            2260\n",
       "Red               744\n",
       "Dark Brown        659\n",
       "Red               480\n",
       "Reddish Brown     265\n",
       "Light Brown        54\n",
       "Medium Brown       51\n",
       "Name: Soil_color, dtype: int64"
      ]
     },
     "execution_count": 196,
     "metadata": {},
     "output_type": "execute_result"
    }
   ],
   "source": [
    "crop['Soil_color'].value_counts()"
   ]
  },
  {
   "cell_type": "code",
   "execution_count": 197,
   "id": "926f23ad-d7f2-4303-8dcd-97a61ee85c69",
   "metadata": {
    "tags": []
   },
   "outputs": [
    {
     "data": {
      "text/plain": [
       "1.0    2260\n",
       "4.0     744\n",
       "3.0     659\n",
       "5.0     265\n",
       "6.0      54\n",
       "7.0      51\n",
       "Name: Soil_Color_Num, dtype: int64"
      ]
     },
     "execution_count": 197,
     "metadata": {},
     "output_type": "execute_result"
    }
   ],
   "source": [
    "soil_color={\n",
    " 'Black':1,\n",
    " 'Red':2,\n",
    "    'Dark Brown':3,\n",
    "    'Red':4,\n",
    "    'Reddish Brown':5,\n",
    "    'Light Brown':6,\n",
    "    'Medium Brown':7,\n",
    "}\n",
    "crop['Soil_Color_Num']=crop['Soil_color'].map(soil_color)\n",
    "crop['Soil_Color_Num'].value_counts()"
   ]
  },
  {
   "cell_type": "code",
   "execution_count": 198,
   "id": "9f6664ab-971e-4966-8b85-921d4eada52f",
   "metadata": {
    "tags": []
   },
   "outputs": [
    {
     "data": {
      "text/plain": [
       "Sugarcane    1010\n",
       "Wheat         859\n",
       "Cotton        650\n",
       "Jowar         394\n",
       "Maize         350\n",
       "Rice          309\n",
       "Groundnut     177\n",
       "Tur           126\n",
       "Ginger        125\n",
       "Grapes        125\n",
       "Urad           99\n",
       "Moong          99\n",
       "Gram           78\n",
       "Turmeric       55\n",
       "Soybean        45\n",
       "Masoor         12\n",
       "Name: Crop, dtype: int64"
      ]
     },
     "execution_count": 198,
     "metadata": {},
     "output_type": "execute_result"
    }
   ],
   "source": [
    "crop['Crop'].value_counts()"
   ]
  },
  {
   "cell_type": "code",
   "execution_count": 199,
   "id": "72e3e7c2-3f51-4a82-a7dd-2163186205f0",
   "metadata": {
    "tags": []
   },
   "outputs": [],
   "source": [
    "crop_dict={\n",
    "    'Sugarcane':1,\n",
    "     'Wheat':2,\n",
    "     'Cotton':3,\n",
    "     'Jowar':4,\n",
    "     'Maize':5,\n",
    "     'Rice':6,\n",
    "     'Groundnut':7,\n",
    "     'Tur':8,\n",
    "     'Ginger':9,\n",
    "     'Grapes':10,\n",
    "     'Urad':11,\n",
    "     'Moong':12,\n",
    "     'Gram':13, \n",
    "    'Turmeric':14, \n",
    "    'Soybean':15, \n",
    "    'Masoor':16\n",
    "}\n",
    "crop['crop_num']=crop['Crop'].map(crop_dict)"
   ]
  },
  {
   "cell_type": "code",
   "execution_count": 200,
   "id": "0bfdcd0d-995a-4a50-93ca-987f53638ad6",
   "metadata": {
    "tags": []
   },
   "outputs": [
    {
     "data": {
      "text/plain": [
       "1     1010\n",
       "2      859\n",
       "3      650\n",
       "4      394\n",
       "5      350\n",
       "6      309\n",
       "7      177\n",
       "8      126\n",
       "9      125\n",
       "10     125\n",
       "11      99\n",
       "12      99\n",
       "13      78\n",
       "14      55\n",
       "15      45\n",
       "16      12\n",
       "Name: crop_num, dtype: int64"
      ]
     },
     "execution_count": 200,
     "metadata": {},
     "output_type": "execute_result"
    }
   ],
   "source": [
    "crop['crop_num'].value_counts()"
   ]
  },
  {
   "cell_type": "code",
   "execution_count": 201,
   "id": "8ca891a7-aba3-47ad-b1cd-9d9ddd47858b",
   "metadata": {
    "tags": []
   },
   "outputs": [],
   "source": [
    "#crop.drop('Crop',axis=1,inplace=True)"
   ]
  },
  {
   "cell_type": "code",
   "execution_count": 202,
   "id": "ac5dddc6-eb0b-4628-b844-0ce1d9563cea",
   "metadata": {
    "tags": []
   },
   "outputs": [
    {
     "data": {
      "text/html": [
       "<div>\n",
       "<style scoped>\n",
       "    .dataframe tbody tr th:only-of-type {\n",
       "        vertical-align: middle;\n",
       "    }\n",
       "\n",
       "    .dataframe tbody tr th {\n",
       "        vertical-align: top;\n",
       "    }\n",
       "\n",
       "    .dataframe thead th {\n",
       "        text-align: right;\n",
       "    }\n",
       "</style>\n",
       "<table border=\"1\" class=\"dataframe\">\n",
       "  <thead>\n",
       "    <tr style=\"text-align: right;\">\n",
       "      <th></th>\n",
       "      <th>District_Name</th>\n",
       "      <th>Soil_color</th>\n",
       "      <th>Nitrogen</th>\n",
       "      <th>Phosphorus</th>\n",
       "      <th>Potassium</th>\n",
       "      <th>pH</th>\n",
       "      <th>Rainfall</th>\n",
       "      <th>Temperature</th>\n",
       "      <th>Crop</th>\n",
       "      <th>Fertilizer</th>\n",
       "      <th>Link</th>\n",
       "      <th>Fertilizer_Num</th>\n",
       "      <th>Dist_Name_Num</th>\n",
       "      <th>Soil_Color_Num</th>\n",
       "      <th>crop_num</th>\n",
       "    </tr>\n",
       "  </thead>\n",
       "  <tbody>\n",
       "    <tr>\n",
       "      <th>0</th>\n",
       "      <td>Kolhapur</td>\n",
       "      <td>Black</td>\n",
       "      <td>75</td>\n",
       "      <td>50</td>\n",
       "      <td>100</td>\n",
       "      <td>6.5</td>\n",
       "      <td>1000</td>\n",
       "      <td>20</td>\n",
       "      <td>Sugarcane</td>\n",
       "      <td>Urea</td>\n",
       "      <td>https://youtu.be/2t5Am0xLTOo</td>\n",
       "      <td>1</td>\n",
       "      <td>1</td>\n",
       "      <td>1.0</td>\n",
       "      <td>1</td>\n",
       "    </tr>\n",
       "    <tr>\n",
       "      <th>1</th>\n",
       "      <td>Kolhapur</td>\n",
       "      <td>Black</td>\n",
       "      <td>80</td>\n",
       "      <td>50</td>\n",
       "      <td>100</td>\n",
       "      <td>6.5</td>\n",
       "      <td>1000</td>\n",
       "      <td>20</td>\n",
       "      <td>Sugarcane</td>\n",
       "      <td>Urea</td>\n",
       "      <td>https://youtu.be/2t5Am0xLTOo</td>\n",
       "      <td>1</td>\n",
       "      <td>1</td>\n",
       "      <td>1.0</td>\n",
       "      <td>1</td>\n",
       "    </tr>\n",
       "    <tr>\n",
       "      <th>2</th>\n",
       "      <td>Kolhapur</td>\n",
       "      <td>Black</td>\n",
       "      <td>85</td>\n",
       "      <td>50</td>\n",
       "      <td>100</td>\n",
       "      <td>6.5</td>\n",
       "      <td>1000</td>\n",
       "      <td>20</td>\n",
       "      <td>Sugarcane</td>\n",
       "      <td>Urea</td>\n",
       "      <td>https://youtu.be/2t5Am0xLTOo</td>\n",
       "      <td>1</td>\n",
       "      <td>1</td>\n",
       "      <td>1.0</td>\n",
       "      <td>1</td>\n",
       "    </tr>\n",
       "    <tr>\n",
       "      <th>3</th>\n",
       "      <td>Kolhapur</td>\n",
       "      <td>Black</td>\n",
       "      <td>90</td>\n",
       "      <td>50</td>\n",
       "      <td>100</td>\n",
       "      <td>6.5</td>\n",
       "      <td>1000</td>\n",
       "      <td>20</td>\n",
       "      <td>Sugarcane</td>\n",
       "      <td>Urea</td>\n",
       "      <td>https://youtu.be/2t5Am0xLTOo</td>\n",
       "      <td>1</td>\n",
       "      <td>1</td>\n",
       "      <td>1.0</td>\n",
       "      <td>1</td>\n",
       "    </tr>\n",
       "    <tr>\n",
       "      <th>4</th>\n",
       "      <td>Kolhapur</td>\n",
       "      <td>Black</td>\n",
       "      <td>95</td>\n",
       "      <td>50</td>\n",
       "      <td>100</td>\n",
       "      <td>6.5</td>\n",
       "      <td>1000</td>\n",
       "      <td>20</td>\n",
       "      <td>Sugarcane</td>\n",
       "      <td>Urea</td>\n",
       "      <td>https://youtu.be/2t5Am0xLTOo</td>\n",
       "      <td>1</td>\n",
       "      <td>1</td>\n",
       "      <td>1.0</td>\n",
       "      <td>1</td>\n",
       "    </tr>\n",
       "  </tbody>\n",
       "</table>\n",
       "</div>"
      ],
      "text/plain": [
       "  District_Name Soil_color  Nitrogen  Phosphorus  Potassium   pH  Rainfall  \\\n",
       "0      Kolhapur      Black        75          50        100  6.5      1000   \n",
       "1      Kolhapur      Black        80          50        100  6.5      1000   \n",
       "2      Kolhapur      Black        85          50        100  6.5      1000   \n",
       "3      Kolhapur      Black        90          50        100  6.5      1000   \n",
       "4      Kolhapur      Black        95          50        100  6.5      1000   \n",
       "\n",
       "   Temperature       Crop Fertilizer                          Link  \\\n",
       "0           20  Sugarcane       Urea  https://youtu.be/2t5Am0xLTOo   \n",
       "1           20  Sugarcane       Urea  https://youtu.be/2t5Am0xLTOo   \n",
       "2           20  Sugarcane       Urea  https://youtu.be/2t5Am0xLTOo   \n",
       "3           20  Sugarcane       Urea  https://youtu.be/2t5Am0xLTOo   \n",
       "4           20  Sugarcane       Urea  https://youtu.be/2t5Am0xLTOo   \n",
       "\n",
       "   Fertilizer_Num  Dist_Name_Num  Soil_Color_Num  crop_num  \n",
       "0               1              1             1.0         1  \n",
       "1               1              1             1.0         1  \n",
       "2               1              1             1.0         1  \n",
       "3               1              1             1.0         1  \n",
       "4               1              1             1.0         1  "
      ]
     },
     "execution_count": 202,
     "metadata": {},
     "output_type": "execute_result"
    }
   ],
   "source": [
    "crop.head()"
   ]
  },
  {
   "cell_type": "code",
   "execution_count": 203,
   "id": "6c2f999d-7083-4d46-9db2-db2cac8a4c00",
   "metadata": {
    "tags": []
   },
   "outputs": [],
   "source": [
    "#Train test split \n",
    "x = crop.drop(['crop_num','Crop','Fertilizer','Link','District_Name','Soil_color','Fertilizer_Num'],axis=1)\n",
    "y= crop['crop_num']"
   ]
  },
  {
   "cell_type": "code",
   "execution_count": 204,
   "id": "d2e1dc83-b4d1-4a03-9d93-5f0bcaa62f75",
   "metadata": {
    "tags": []
   },
   "outputs": [
    {
     "data": {
      "text/plain": [
       "(4513, 8)"
      ]
     },
     "execution_count": 204,
     "metadata": {},
     "output_type": "execute_result"
    }
   ],
   "source": [
    "x.shape\n"
   ]
  },
  {
   "cell_type": "code",
   "execution_count": 205,
   "id": "281ffd77-3805-4428-95e2-387b63e2d64c",
   "metadata": {
    "tags": []
   },
   "outputs": [
    {
     "data": {
      "text/plain": [
       "(4513,)"
      ]
     },
     "execution_count": 205,
     "metadata": {},
     "output_type": "execute_result"
    }
   ],
   "source": [
    "y.shape"
   ]
  },
  {
   "cell_type": "code",
   "execution_count": 206,
   "id": "683f61e0-7525-4499-b465-cb17ea273149",
   "metadata": {
    "tags": []
   },
   "outputs": [],
   "source": [
    "from sklearn.model_selection import train_test_split"
   ]
  },
  {
   "cell_type": "code",
   "execution_count": 207,
   "id": "4ff45185-070f-44f8-a96a-2bcb5211d7ed",
   "metadata": {
    "tags": []
   },
   "outputs": [],
   "source": [
    "x_train, x_test, y_train, y_test = train_test_split(x,y,test_size=0.2,random_state=42)"
   ]
  },
  {
   "cell_type": "code",
   "execution_count": 208,
   "id": "5aa276f3-609a-4bf8-972b-7610d09ffb9b",
   "metadata": {
    "tags": []
   },
   "outputs": [
    {
     "data": {
      "text/plain": [
       "(3610, 8)"
      ]
     },
     "execution_count": 208,
     "metadata": {},
     "output_type": "execute_result"
    }
   ],
   "source": [
    "x_train.shape"
   ]
  },
  {
   "cell_type": "code",
   "execution_count": 209,
   "id": "d574b16c-9080-40d5-aafa-822227753d5c",
   "metadata": {
    "tags": []
   },
   "outputs": [
    {
     "data": {
      "text/plain": [
       "(903, 8)"
      ]
     },
     "execution_count": 209,
     "metadata": {},
     "output_type": "execute_result"
    }
   ],
   "source": [
    "x_test.shape"
   ]
  },
  {
   "cell_type": "code",
   "execution_count": 210,
   "id": "7068a772-67d8-42ea-921b-e7352156407e",
   "metadata": {
    "tags": []
   },
   "outputs": [],
   "source": [
    "#scale the features using MinMaxScaler\n",
    "from sklearn.preprocessing import MinMaxScaler\n",
    "ms = MinMaxScaler()\n",
    "\n",
    "ms.fit(x_train)\n",
    "x_train = ms.transform(x_train)\n",
    "x_test = ms.transform(x_test)"
   ]
  },
  {
   "cell_type": "code",
   "execution_count": 211,
   "id": "34e9e75d-5dbb-4e57-9207-dc920c939b71",
   "metadata": {},
   "outputs": [
    {
     "data": {
      "text/plain": [
       "array([[0.03846154, 0.1875    , 0.31034483, ..., 0.5       , 0.5       ,\n",
       "        0.        ],\n",
       "       [0.5       , 0.5625    , 0.24137931, ..., 0.16666667, 0.        ,\n",
       "        0.33333333],\n",
       "       [0.5       , 0.5       , 0.27586207, ..., 0.66666667, 0.25      ,\n",
       "        0.5       ],\n",
       "       ...,\n",
       "       [0.30769231, 0.4375    , 0.37931034, ..., 0.33333333, 0.25      ,\n",
       "        0.        ],\n",
       "       [0.30769231, 0.5       , 0.34482759, ..., 0.66666667, 0.5       ,\n",
       "        0.5       ],\n",
       "       [0.69230769, 0.625     , 0.27586207, ..., 0.5       , 0.        ,\n",
       "        0.33333333]])"
      ]
     },
     "execution_count": 211,
     "metadata": {},
     "output_type": "execute_result"
    }
   ],
   "source": [
    "x_train"
   ]
  },
  {
   "cell_type": "code",
   "execution_count": 212,
   "id": "f44fcc68-ff9c-41e1-a0e2-9ab7f17a7be2",
   "metadata": {
    "tags": []
   },
   "outputs": [],
   "source": [
    "#standarization\n",
    "from sklearn.preprocessing import StandardScaler\n",
    "sc = StandardScaler()\n",
    "\n",
    "sc.fit(x_train)\n",
    "x_train = sc.transform(x_train)\n",
    "x_test = sc.transform(x_test)"
   ]
  },
  {
   "cell_type": "code",
   "execution_count": 213,
   "id": "7eb3d9ba-d4e3-4c31-a1e3-8ce1e1d04774",
   "metadata": {
    "tags": []
   },
   "outputs": [
    {
     "name": "stderr",
     "output_type": "stream",
     "text": [
      "C:\\Users\\Pragati\\anaconda3\\Lib\\site-packages\\sklearn\\linear_model\\_logistic.py:460: ConvergenceWarning: lbfgs failed to converge (status=1):\n",
      "STOP: TOTAL NO. of ITERATIONS REACHED LIMIT.\n",
      "\n",
      "Increase the number of iterations (max_iter) or scale the data as shown in:\n",
      "    https://scikit-learn.org/stable/modules/preprocessing.html\n",
      "Please also refer to the documentation for alternative solver options:\n",
      "    https://scikit-learn.org/stable/modules/linear_model.html#logistic-regression\n",
      "  n_iter_i = _check_optimize_result(\n"
     ]
    },
    {
     "name": "stdout",
     "output_type": "stream",
     "text": [
      "Logistic Regression with accuracy :0.8571428571428571\n",
      "Naive Bayes with accuracy :0.8039867109634552\n",
      "Support Vector Machine with accuracy :0.982281284606866\n",
      "K-Nearest Neighbors with accuracy :0.9833887043189369\n",
      "Extra Trees with accuracy :0.9933554817275747\n",
      "Decision Tree with accuracy :0.9966777408637874\n",
      "Random Forest with accuracy :1.0\n",
      "Bagging with accuracy :0.9977851605758582\n",
      "Gradient Boosting with accuracy :0.9988925802879292\n",
      "AdaBoost with accuracy :0.38981173864894797\n"
     ]
    }
   ],
   "source": [
    "#training models\n",
    "from sklearn.linear_model import LogisticRegression\n",
    "from sklearn.naive_bayes import GaussianNB\n",
    "from sklearn.svm import SVC\n",
    "from sklearn.neighbors import KNeighborsClassifier\n",
    "from sklearn.tree import ExtraTreeClassifier\n",
    "from sklearn.tree import DecisionTreeClassifier\n",
    "from sklearn.ensemble import RandomForestClassifier\n",
    "from sklearn.ensemble import BaggingClassifier\n",
    "from sklearn.ensemble import GradientBoostingClassifier\n",
    "from sklearn.ensemble import AdaBoostClassifier\n",
    "from sklearn.metrics import accuracy_score\n",
    "from sklearn.impute import SimpleImputer\n",
    "\n",
    "\n",
    "imputer = SimpleImputer(strategy='mean')\n",
    "x_train_imputed = imputer.fit_transform(x_train)\n",
    "x_test_imputed = imputer.transform(x_test)\n",
    "\n",
    "#create instance of all models\n",
    "models={\n",
    "   'Logistic Regression':LogisticRegression(),\n",
    "    'Naive Bayes':GaussianNB(),\n",
    "    'Support Vector Machine':SVC(),\n",
    "    'K-Nearest Neighbors':KNeighborsClassifier(),\n",
    "    'Extra Trees':ExtraTreeClassifier(),\n",
    "    'Decision Tree':DecisionTreeClassifier(),\n",
    "    'Random Forest':RandomForestClassifier(),\n",
    "    'Bagging':BaggingClassifier(),\n",
    "    'Gradient Boosting':GradientBoostingClassifier(),\n",
    "    'AdaBoost':AdaBoostClassifier(),\n",
    "    \n",
    "   \n",
    "}\n",
    "\n",
    "\n",
    "for name,md in models.items():\n",
    "    md.fit(x_train_imputed, y_train)\n",
    "    ypred = md.predict(x_test_imputed)\n",
    "    print(f\"{name} with accuracy :{accuracy_score(y_test,ypred)}\")"
   ]
  },
  {
   "cell_type": "code",
   "execution_count": 220,
   "id": "f24ec907-2ffb-4cf7-b44c-c052f497a0d0",
   "metadata": {
    "tags": []
   },
   "outputs": [
    {
     "data": {
      "text/plain": [
       "0.9977851605758582"
      ]
     },
     "execution_count": 220,
     "metadata": {},
     "output_type": "execute_result"
    }
   ],
   "source": [
    "rfc=RandomForestClassifier()\n",
    "rfc.fit(x_train_imputed,y_train)\n",
    "ypred=rfc.predict(x_test_imputed)\n",
    "accuracy_score(y_test,ypred)"
   ]
  },
  {
   "cell_type": "code",
   "execution_count": 221,
   "id": "83d7379a-b1ac-4297-8add-65e424755b7a",
   "metadata": {},
   "outputs": [],
   "source": [
    "#predictive system\n",
    "def recommendation(Dist_Name_Num,Soil_Color_Num,Nitrogen,Phosphorus,Potassium,pH,Rainfall,Temperature):\n",
    "    features=np.array([[Dist_Name_Num,Soil_Color_Num,Nitrogen,Phosphorus,Potassium,pH,Rainfall,Temperature]])\n",
    "    prediction = rfc.predict(features).reshape(1,-1)\n",
    "    \n",
    "    return prediction[0]"
   ]
  },
  {
   "cell_type": "code",
   "execution_count": 222,
   "id": "9c568f81-6d35-4657-81ab-7f785f1c0847",
   "metadata": {
    "tags": []
   },
   "outputs": [
    {
     "name": "stdout",
     "output_type": "stream",
     "text": [
      "Sugarcane is a best crop to be cultivated\n"
     ]
    }
   ],
   "source": [
    "Dist_Name_Num=1\n",
    "Soil_Color_Num=2\n",
    "Nitrogen=100\n",
    "Phosphorus=50\n",
    "Potassium=50\n",
    "pH=7\n",
    "Rainfall=800\n",
    "Temperature=25\n",
    "\n",
    "\n",
    "\n",
    "predict=recommendation(Dist_Name_Num,Soil_Color_Num,Nitrogen,Phosphorus,Potassium,pH,Rainfall,Temperature)\n",
    "crop_dict={\n",
    "    1: 'Sugarcane',\n",
    "    2:  'Wheat',\n",
    "    3: 'Cotton',\n",
    "    4: 'Jowar',\n",
    "    5:  'Maize',\n",
    "    6:  'Rice',\n",
    "    7:'Groundnut',\n",
    "    8: 'Tur',\n",
    "    9:'Ginger',\n",
    "    10: 'Grapes',\n",
    "    11: 'Urad',\n",
    "    12: 'Moong',\n",
    "    13: 'Gram', \n",
    "    14: 'Turmeric', \n",
    "    15:    'Soybean', \n",
    "    16: 'Masoor'\n",
    "}\n",
    "\n",
    "if predict[0] in crop_dict:\n",
    "    crop_name=crop_dict[predict[0]]\n",
    "    print(\"{} is a best crop to be cultivated\".format(crop_name))\n",
    "else:\n",
    "    print(\"We are not able to recommend the crop\")"
   ]
  },
  {
   "cell_type": "code",
   "execution_count": null,
   "id": "99969505-351d-4095-bdc1-89d910608a4a",
   "metadata": {},
   "outputs": [],
   "source": []
  },
  {
   "cell_type": "code",
   "execution_count": null,
   "id": "2ee3a731-16eb-4899-b56e-cdac3bc6cbdd",
   "metadata": {},
   "outputs": [],
   "source": []
  }
 ],
 "metadata": {
  "kernelspec": {
   "display_name": "Python 3 (ipykernel)",
   "language": "python",
   "name": "python3"
  },
  "language_info": {
   "codemirror_mode": {
    "name": "ipython",
    "version": 3
   },
   "file_extension": ".py",
   "mimetype": "text/x-python",
   "name": "python",
   "nbconvert_exporter": "python",
   "pygments_lexer": "ipython3",
   "version": "3.11.4"
  }
 },
 "nbformat": 4,
 "nbformat_minor": 5
}
